{
 "cells": [
  {
   "cell_type": "code",
   "execution_count": 1,
   "id": "53d51c94",
   "metadata": {},
   "outputs": [
    {
     "name": "stdout",
     "output_type": "stream",
     "text": [
      "Before changing:  {'emp1': {'name': 'Jhon', 'salary': 7500}, 'emp2': {'name': 'Emma', 'salary': 8000}, 'emp3': {'name': 'Brad', 'salary': 500}}\n",
      "After changing:  {'emp1': {'name': 'Jhon', 'salary': 7500}, 'emp2': {'name': 'Emma', 'salary': 8000}, 'emp3': {'name': 'Brad', 'salary': 8500}}\n"
     ]
    }
   ],
   "source": [
    "#lab 9 (Dictionaries)\n",
    "#task_1\n",
    "sample_dict = {\n",
    "'emp1': {'name': 'Jhon',\n",
    "'salary': 7500},\n",
    "'emp2': {'name': 'Emma',\n",
    "'salary': 8000},\n",
    "'emp3': {'name': 'Brad',\n",
    "'salary': 500}\n",
    "}\n",
    "print(\"Before changing: \",sample_dict)\n",
    "sample_dict[\"emp3\"][\"salary\"] = 8500\n",
    "\n",
    "print(\"After changing: \",sample_dict)\n"
   ]
  },
  {
   "cell_type": "code",
   "execution_count": 2,
   "id": "0a9c8aa7",
   "metadata": {},
   "outputs": [
    {
     "name": "stdout",
     "output_type": "stream",
     "text": [
      "Math\n"
     ]
    }
   ],
   "source": [
    "#task_2\n",
    "sample_dict = {\n",
    "'Physics': 82,\n",
    "'Math': 65,\n",
    "'history': 75\n",
    "}\n",
    "\n",
    "min_val = min(sample_dict.values()) #getting minimum value\n",
    "for key,val in sample_dict.items(): #finding key of minimum value\n",
    "    if val == min_val:\n",
    "        min_key = key\n",
    "print(min_key)\n",
    "\n",
    "    "
   ]
  },
  {
   "cell_type": "code",
   "execution_count": 3,
   "id": "429d867d",
   "metadata": {},
   "outputs": [
    {
     "name": "stdout",
     "output_type": "stream",
     "text": [
      "{'name': 'Kelly', 'age': 25, 'salary': 8000, 'location': 'New york'}\n"
     ]
    }
   ],
   "source": [
    "#task 3 \n",
    "sample_dict = {\n",
    "\"name\": \"Kelly\",\n",
    "\"age\":25,\n",
    "\"salary\": 8000,\n",
    "\"city\": \"New york\"\n",
    "}\n",
    "\n",
    "sample_dict['location'] = sample_dict['city'] #new keyword location is created with same value\n",
    "del sample_dict['city'] #we delete the keyword and value 'city'\n",
    "print(sample_dict)"
   ]
  },
  {
   "cell_type": "code",
   "execution_count": 4,
   "id": "f2240c44",
   "metadata": {},
   "outputs": [
    {
     "name": "stdout",
     "output_type": "stream",
     "text": [
      "value found\n"
     ]
    }
   ],
   "source": [
    "#task 4\n",
    "sample_dict = {'a': 100,\n",
    "'b': 200,\n",
    "'c': 300}\n",
    "for i in sample_dict.values():\n",
    "    if i == 200:\n",
    "        print('value found')\n",
    "        break\n"
   ]
  },
  {
   "cell_type": "code",
   "execution_count": 5,
   "id": "587cbe1a",
   "metadata": {},
   "outputs": [
    {
     "name": "stdout",
     "output_type": "stream",
     "text": [
      "{'name': 'Kelly', 'age': 25, 'salary': 8000, 'city': 'New york'}\n",
      "{'age': 25, 'city': 'New york'}\n"
     ]
    }
   ],
   "source": [
    "#task 5\n",
    "sample_dict = {\n",
    "\"name\": \"Kelly\",\n",
    "\"age\": 25,\n",
    "\"salary\": 8000,\n",
    "\"city\": \"New york\"\n",
    "}\n",
    "print(sample_dict)\n",
    "del sample_dict['name']\n",
    "del sample_dict['salary']\n",
    "print(sample_dict)"
   ]
  },
  {
   "cell_type": "code",
   "execution_count": null,
   "id": "3fddf135",
   "metadata": {},
   "outputs": [],
   "source": [
    "#task 6 \n",
    "std_dict={}#creating empty dictionary\n",
    "for i in range(1,3):\n",
    "    name = input(\"Enter name of student: \")\n",
    "    roll = int(input(\"Enter roll number of student: \"))\n",
    "    gpa = float(input(\"Enter gpa of student: \"))\n",
    "    std_dict['student_'+str(i)]={\"name\":name,\"roll number\":roll,\"gpa\":gpa}#creating a nested dictionary of students\n",
    "\n",
    "target_roll = int(input(\"enter the roll number of student you want to see: \"))\n",
    "for val in std_dict.values():\n",
    "    if val[\"roll number\"] == target_roll:\n",
    "        print(val)\n",
    "        break\n",
    "    "
   ]
  },
  {
   "cell_type": "code",
   "execution_count": 6,
   "id": "e4a4075a",
   "metadata": {},
   "outputs": [
    {
     "name": "stdout",
     "output_type": "stream",
     "text": [
      "first\n",
      "second\n",
      "third\n",
      "{1: 'one', 2: 'two', 3: 'three'}\n",
      "{4: 'four', 5: 'five', 6: 'six'}\n",
      "{7: 'seven', 8: 'eight', 9: 'nine'}\n",
      "first {1: 'one', 2: 'two', 3: 'three'}\n",
      "second {4: 'four', 5: 'five', 6: 'six'}\n",
      "third {7: 'seven', 8: 'eight', 9: 'nine'}\n"
     ]
    }
   ],
   "source": [
    "#task 7\n",
    "dict_1 = {1:'one',2:'two',3:'three'}\n",
    "dict_2 = {4:'four',5:'five',6:'six'}\n",
    "dict_3 = {7:'seven',8:'eight',9:'nine'}\n",
    "all_dict = {'first':dict_1,'second':dict_2,'third':dict_3}\n",
    "for i in all_dict: #printing keys\n",
    "    print(i)\n",
    "for val in all_dict.values():#printing values\n",
    "    print(val)\n",
    "for k,v in all_dict.items(): #printing their pairs\n",
    "    print(k,v)\n"
   ]
  },
  {
   "cell_type": "code",
   "execution_count": null,
   "id": "9d9d1dee",
   "metadata": {},
   "outputs": [],
   "source": []
  }
 ],
 "metadata": {
  "kernelspec": {
   "display_name": "Python 3 (ipykernel)",
   "language": "python",
   "name": "python3"
  },
  "language_info": {
   "codemirror_mode": {
    "name": "ipython",
    "version": 3
   },
   "file_extension": ".py",
   "mimetype": "text/x-python",
   "name": "python",
   "nbconvert_exporter": "python",
   "pygments_lexer": "ipython3",
   "version": "3.9.7"
  }
 },
 "nbformat": 4,
 "nbformat_minor": 5
}
